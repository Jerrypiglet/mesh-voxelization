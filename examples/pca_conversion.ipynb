{
 "cells": [
  {
   "cell_type": "code",
   "execution_count": 1,
   "metadata": {},
   "outputs": [
    {
     "name": "stderr",
     "output_type": "stream",
     "text": [
      "/home/rz1/.local/lib/python2.7/site-packages/h5py/__init__.py:34: FutureWarning: Conversion of the second argument of issubdtype from `float` to `np.floating` is deprecated. In future, it will be treated as `np.float64 == np.dtype(float).type`.\n",
      "  from ._conv import register_converters as _register_converters\n"
     ]
    },
    {
     "name": "stdout",
     "output_type": "stream",
     "text": [
      "(79, 32, 32, 32)\n",
      "(32768, 10)\n",
      "(10, 79)\n"
     ]
    }
   ],
   "source": [
    "import os\n",
    "import h5py\n",
    "import argparse\n",
    "import numpy as np\n",
    "\n",
    "from hdf5_utils import *\n",
    "\n",
    "cars_hdf5_name = '../models/cars/2_watertight/sdf.h5'\n",
    "\n",
    "h5 = read_hdf5(cars_hdf5_name)\n",
    "print h5.shape\n",
    "\n",
    "S = h5.reshape((h5.shape[0], -1))\n",
    "# print S.shape\n",
    "\n",
    "S_train = S[:, :]\n",
    "# S_test = S[-5:, :]\n",
    "\n",
    "S_mean = np.mean(S_train, axis=0)\n",
    "S_white_train = S_train - S_mean\n",
    "# S_white_test = S_test - S_mean\n",
    "# print S_white_train.shape, S_white_test.shape, S_mean.shape\n",
    "# t = S.shape[0] # number of samples, 87\n",
    "# n = S.shape[1] # dim of feature, 32*32*32\n",
    "\n",
    "from sklearn import decomposition\n",
    "pca = decomposition.PCA(n_components=10)\n",
    "pca.fit(S_white_train)\n",
    "V = pca.components_.T # basis (mapping from high to low dim feature space), 32786*10\n",
    "print V.shape\n",
    "\n",
    "beta = np.dot(V.T, S_white_train.T) # embedding for 87 models, 10*87\n",
    "print beta.shape"
   ]
  },
  {
   "cell_type": "code",
   "execution_count": 2,
   "metadata": {},
   "outputs": [
    {
     "name": "stdout",
     "output_type": "stream",
     "text": [
      "(1, 32768)\n"
     ]
    },
    {
     "data": {
      "text/plain": [
       "0"
      ]
     },
     "execution_count": 2,
     "metadata": {},
     "output_type": "execute_result"
    }
   ],
   "source": [
    "# Demo for compressing and recovering the 1st model.\n",
    "# Assuming beta_input is the input PCA code with dimension [1, 10]\n",
    "beta_input = beta[:, 0:1]\n",
    "S_gnd = S_train[0:1, :]\n",
    "\n",
    "S_recover = np.dot(V, beta_input).T+S_mean.reshape((1, -1))\n",
    "print S_recover.shape\n",
    "\n",
    "# The recovered shape and its ground truth shape will be written to .off files in original scale \n",
    "# as the dataset ('{model_id}_ori_scale.off')with Marching Cubes algorithm.\n",
    "# The recovered model is at: ../models/cars/2_watertight/watertight/baojun-310-2017_ori_scale.off\n",
    "# The reconstructed model is at: ../models/cars/2_watertight/recovered/mc_test_recon/baojun-310-2017_ori_scale.off\n",
    "\n",
    "hdf5_recovered_path = '../models/cars/2_watertight/recovered/recovered_test_recon.h5'\n",
    "write_hdf5(hdf5_recovered_path, S_recover.reshape((-1, 32, 32, 32)))\n",
    "mc_recovered_path = hdf5_recovered_path.replace('recovered_test_recon.h5', 'mc_test_recon')\n",
    "os.system('python marching_cubes.py %s %s'%(hdf5_recovered_path, mc_recovered_path))\n",
    "\n",
    "hdf5_recovered_path = '../models/cars/2_watertight/recovered/recovered_test_gnd.h5'\n",
    "write_hdf5(hdf5_recovered_path, S_gnd.reshape((-1, 32, 32, 32)))\n",
    "mc_recovered_path = hdf5_recovered_path.replace('recovered_test_gnd.h5', 'mc_test_gnd')\n",
    "os.system('python marching_cubes.py %s %s'%(hdf5_recovered_path, mc_recovered_path))"
   ]
  },
  {
   "cell_type": "code",
   "execution_count": null,
   "metadata": {
    "collapsed": true
   },
   "outputs": [],
   "source": []
  }
 ],
 "metadata": {
  "kernelspec": {
   "display_name": "Python 2",
   "language": "python",
   "name": "python2"
  },
  "language_info": {
   "codemirror_mode": {
    "name": "ipython",
    "version": 2
   },
   "file_extension": ".py",
   "mimetype": "text/x-python",
   "name": "python",
   "nbconvert_exporter": "python",
   "pygments_lexer": "ipython2",
   "version": "2.7.12"
  }
 },
 "nbformat": 4,
 "nbformat_minor": 2
}
