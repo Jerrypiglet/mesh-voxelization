{
 "cells": [
  {
   "cell_type": "code",
   "execution_count": 5,
   "metadata": {},
   "outputs": [
    {
     "name": "stdout",
     "output_type": "stream",
     "text": [
      "(79, 32, 32, 32)\n",
      "(79, 32768)\n"
     ]
    }
   ],
   "source": [
    "import os\n",
    "import h5py\n",
    "import argparse\n",
    "import numpy as np\n",
    "\n",
    "from hdf5_utils import *\n",
    "\n",
    "cars_hdf5_name = '../models/cars/2_watertight/sdf.h5'\n",
    "\n",
    "h5 = read_hdf5(cars_hdf5_name)\n",
    "print h5.shape\n",
    "\n",
    "S = h5.reshape((h5.shape[0], -1))\n",
    "print S.shape\n",
    "\n",
    "S_train = S[:74, :]\n",
    "S_test = S[-5:, :]"
   ]
  },
  {
   "cell_type": "code",
   "execution_count": 6,
   "metadata": {},
   "outputs": [
    {
     "name": "stdout",
     "output_type": "stream",
     "text": [
      "(74, 32768) (5, 32768) (32768,)\n",
      "(32768, 10)\n"
     ]
    }
   ],
   "source": [
    "S_mean = np.mean(S_train, axis=0)\n",
    "S_white_train = S_train - S_mean\n",
    "S_white_test = S_test - S_mean\n",
    "print S_white_train.shape, S_white_test.shape, S_mean.shape\n",
    "# t = S.shape[0] # number of samples, 87\n",
    "# n = S.shape[1] # dim of feature, 32*32*32\n",
    "\n",
    "from sklearn import decomposition\n",
    "pca = decomposition.PCA(n_components=10)\n",
    "pca.fit(S_white_train)\n",
    "V = pca.components_.T # basis (mapping from high to low dim feature space), 32786*10\n",
    "\n",
    "print V.shape"
   ]
  },
  {
   "cell_type": "code",
   "execution_count": 8,
   "metadata": {},
   "outputs": [
    {
     "name": "stdout",
     "output_type": "stream",
     "text": [
      "(10, 5)\n",
      "(5, 32768)\n"
     ]
    },
    {
     "data": {
      "text/plain": [
       "0"
      ]
     },
     "execution_count": 8,
     "metadata": {},
     "output_type": "execute_result"
    }
   ],
   "source": [
    "beta = np.dot(V.T, S_white_test.T) # embedding for 87 models, 10*87\n",
    "print beta.shape\n",
    "\n",
    "S_recover = np.dot(V, beta).T+S_mean.reshape((1, -1))\n",
    "print S_recover.shape\n",
    "\n",
    "hdf5_recovered_path = '../models/cars/2_watertight/recovered/recovered_test_recon.h5'\n",
    "write_hdf5(hdf5_recovered_path, S_recover.reshape((-1, 32, 32, 32)))\n",
    "mc_recovered_path = hdf5_recovered_path.replace('recovered_test_recon.h5', 'mc_test_recon')\n",
    "os.system('python marching_cubes.py %s %s'%(hdf5_recovered_path, mc_recovered_path))\n",
    "\n",
    "hdf5_recovered_path = '../models/cars/2_watertight/recovered/recovered_test.h5'\n",
    "write_hdf5(hdf5_recovered_path, S_test.reshape((-1, 32, 32, 32)))\n",
    "mc_recovered_path = hdf5_recovered_path.replace('recovered_test.h5', 'mc_test')\n",
    "os.system('python marching_cubes.py %s %s'%(hdf5_recovered_path, mc_recovered_path))"
   ]
  }
 ],
 "metadata": {
  "kernelspec": {
   "display_name": "Python 2",
   "language": "python",
   "name": "python2"
  },
  "language_info": {
   "codemirror_mode": {
    "name": "ipython",
    "version": 2
   },
   "file_extension": ".py",
   "mimetype": "text/x-python",
   "name": "python",
   "nbconvert_exporter": "python",
   "pygments_lexer": "ipython2",
   "version": "2.7.12"
  }
 },
 "nbformat": 4,
 "nbformat_minor": 2
}
