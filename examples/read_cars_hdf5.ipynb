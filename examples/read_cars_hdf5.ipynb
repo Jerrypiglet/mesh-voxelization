{
 "cells": [
  {
   "cell_type": "code",
   "execution_count": 1,
   "metadata": {},
   "outputs": [
    {
     "name": "stdout",
     "output_type": "stream",
     "text": [
      "(87, 32, 32, 32)\n",
      "(87, 32768)\n"
     ]
    }
   ],
   "source": [
    "import os\n",
    "import h5py\n",
    "import argparse\n",
    "import numpy as np\n",
    "\n",
    "from hdf5_utils import *\n",
    "\n",
    "cars_hdf5_name = '../models/cars/2_watertight/sdf.h5'\n",
    "\n",
    "h5 = read_hdf5(cars_hdf5_name)\n",
    "print h5.shape\n",
    "\n",
    "S = h5.reshape((h5.shape[0], -1))\n",
    "print S.shape"
   ]
  },
  {
   "cell_type": "code",
   "execution_count": 8,
   "metadata": {},
   "outputs": [
    {
     "name": "stdout",
     "output_type": "stream",
     "text": [
      "(32768, 32768)\n"
     ]
    }
   ],
   "source": [
    "S_mean = np.mean(S, axis=0)\n",
    "S_white = S - S_mean\n",
    "t = S.shape[0] # number of samples, 87\n",
    "n = S.shape[1] # dim of feature, 32*32*32\n",
    "\n",
    "cov = 1./(t-1) * np.dot(S_white.T , S_white)\n",
    "print cov.shape"
   ]
  },
  {
   "cell_type": "code",
   "execution_count": null,
   "metadata": {},
   "outputs": [],
   "source": [
    "from numpy import linalg as LA\n",
    "w, v = LA.eig(cov)"
   ]
  },
  {
   "cell_type": "code",
   "execution_count": null,
   "metadata": {},
   "outputs": [],
   "source": [
    "print w.shape, v.shape"
   ]
  }
 ],
 "metadata": {
  "kernelspec": {
   "display_name": "Python 2",
   "language": "python",
   "name": "python2"
  },
  "language_info": {
   "codemirror_mode": {
    "name": "ipython",
    "version": 2
   },
   "file_extension": ".py",
   "mimetype": "text/x-python",
   "name": "python",
   "nbconvert_exporter": "python",
   "pygments_lexer": "ipython2",
   "version": "2.7.15"
  }
 },
 "nbformat": 4,
 "nbformat_minor": 2
}
